{
 "cells": [
  {
   "cell_type": "markdown",
   "id": "eebf7124-0371-424c-bbf8-66101ed9e007",
   "metadata": {},
   "source": [
    "## Regressions with Statsmodels"
   ]
  },
  {
   "cell_type": "code",
   "execution_count": null,
   "id": "3ffe251a-e009-483d-b9cc-e2f7d3136886",
   "metadata": {},
   "outputs": [],
   "source": []
  }
 ],
 "metadata": {
  "kernelspec": {
   "display_name": "env-3.8.10",
   "language": "python",
   "name": "env-3.8.10"
  },
  "language_info": {
   "codemirror_mode": {
    "name": "ipython",
    "version": 3
   },
   "file_extension": ".py",
   "mimetype": "text/x-python",
   "name": "python",
   "nbconvert_exporter": "python",
   "pygments_lexer": "ipython3",
   "version": "3.8.10"
  }
 },
 "nbformat": 4,
 "nbformat_minor": 5
}
