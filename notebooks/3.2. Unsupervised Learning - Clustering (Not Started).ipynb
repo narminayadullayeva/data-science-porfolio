{
 "cells": [
  {
   "cell_type": "code",
   "execution_count": null,
   "id": "071b3c50-b953-4913-a633-c537926986b4",
   "metadata": {},
   "outputs": [],
   "source": []
  }
 ],
 "metadata": {
  "kernelspec": {
   "display_name": "env-3.8.10",
   "language": "python",
   "name": "env-3.8.10"
  },
  "language_info": {
   "codemirror_mode": {
    "name": "ipython",
    "version": 3
   },
   "file_extension": ".py",
   "mimetype": "text/x-python",
   "name": "python",
   "nbconvert_exporter": "python",
   "pygments_lexer": "ipython3",
   "version": "3.8.10"
  }
 },
 "nbformat": 4,
 "nbformat_minor": 5
}
