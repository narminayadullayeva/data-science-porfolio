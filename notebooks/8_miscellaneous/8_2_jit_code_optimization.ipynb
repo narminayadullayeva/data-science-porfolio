{
 "cells": [
  {
   "cell_type": "markdown",
   "id": "f40a88be-1444-481e-8f36-92273da76785",
   "metadata": {},
   "source": [
    "# Speeding up your code using Just-In-Time compilation"
   ]
  },
  {
   "cell_type": "markdown",
   "id": "1eb51a69-1c08-467f-8432-f07a451f7b66",
   "metadata": {},
   "source": [
    "Numba is a high-performance 'just-in-time' compiler. If you are not familiar with JIT concept, here is a simple explanation.\n",
    "\n",
    "Imagine you have a Python function. If you use numba compilation, then when you run that function, it is going to be compiled to machine code. The magic happens next when we call that function the second time: it is not going to be interpreted by the Python interpreter. Instead, it is going to be run as a machine code which is significantly faster. \n",
    "\n",
    "As per the manual, Numba likes loops, broadcasting, Numpy. For more info refer to the official documentation: [Link to Numba Documentation](https://numba.pydata.org/numba-doc/latest/index.html)\n",
    "\n",
    "Let's check this out using a real example below.\n"
   ]
  },
  {
   "cell_type": "code",
   "execution_count": 1,
   "id": "c834b0d9-434c-4726-b582-d826620c580f",
   "metadata": {
    "scrolled": true,
    "tags": []
   },
   "outputs": [
    {
     "name": "stdout",
     "output_type": "stream",
     "text": [
      "Requirement already satisfied: numba in /Users/narmina/.pyenv/versions/3.8.10/envs/env-3.8.10/lib/python3.8/site-packages (0.56.4)\n",
      "Requirement already satisfied: pandas_datareader in /Users/narmina/.pyenv/versions/3.8.10/envs/env-3.8.10/lib/python3.8/site-packages (0.10.0)\n",
      "Requirement already satisfied: setuptools in /Users/narmina/.pyenv/versions/3.8.10/envs/env-3.8.10/lib/python3.8/site-packages (from numba) (65.6.3)\n",
      "Requirement already satisfied: llvmlite<0.40,>=0.39.0dev0 in /Users/narmina/.pyenv/versions/3.8.10/envs/env-3.8.10/lib/python3.8/site-packages (from numba) (0.39.1)\n",
      "Requirement already satisfied: importlib-metadata in /Users/narmina/.pyenv/versions/3.8.10/envs/env-3.8.10/lib/python3.8/site-packages (from numba) (4.12.0)\n",
      "Requirement already satisfied: numpy<1.24,>=1.18 in /Users/narmina/.pyenv/versions/3.8.10/envs/env-3.8.10/lib/python3.8/site-packages (from numba) (1.22.4)\n",
      "Requirement already satisfied: pandas>=0.23 in /Users/narmina/.pyenv/versions/3.8.10/envs/env-3.8.10/lib/python3.8/site-packages (from pandas_datareader) (1.3.5)\n",
      "Requirement already satisfied: requests>=2.19.0 in /Users/narmina/.pyenv/versions/3.8.10/envs/env-3.8.10/lib/python3.8/site-packages (from pandas_datareader) (2.28.1)\n",
      "Requirement already satisfied: lxml in /Users/narmina/.pyenv/versions/3.8.10/envs/env-3.8.10/lib/python3.8/site-packages (from pandas_datareader) (4.9.1)\n",
      "Requirement already satisfied: python-dateutil>=2.7.3 in /Users/narmina/.pyenv/versions/3.8.10/envs/env-3.8.10/lib/python3.8/site-packages (from pandas>=0.23->pandas_datareader) (2.8.2)\n",
      "Requirement already satisfied: pytz>=2017.3 in /Users/narmina/.pyenv/versions/3.8.10/envs/env-3.8.10/lib/python3.8/site-packages (from pandas>=0.23->pandas_datareader) (2022.7.1)\n",
      "Requirement already satisfied: idna<4,>=2.5 in /Users/narmina/.pyenv/versions/3.8.10/envs/env-3.8.10/lib/python3.8/site-packages (from requests>=2.19.0->pandas_datareader) (3.4)\n",
      "Requirement already satisfied: certifi>=2017.4.17 in /Users/narmina/.pyenv/versions/3.8.10/envs/env-3.8.10/lib/python3.8/site-packages (from requests>=2.19.0->pandas_datareader) (2022.12.7)\n",
      "Requirement already satisfied: charset-normalizer<3,>=2 in /Users/narmina/.pyenv/versions/3.8.10/envs/env-3.8.10/lib/python3.8/site-packages (from requests>=2.19.0->pandas_datareader) (2.1.1)\n",
      "Requirement already satisfied: urllib3<1.27,>=1.21.1 in /Users/narmina/.pyenv/versions/3.8.10/envs/env-3.8.10/lib/python3.8/site-packages (from requests>=2.19.0->pandas_datareader) (1.26.13)\n",
      "Requirement already satisfied: zipp>=0.5 in /Users/narmina/.pyenv/versions/3.8.10/envs/env-3.8.10/lib/python3.8/site-packages (from importlib-metadata->numba) (3.8.1)\n",
      "Requirement already satisfied: six>=1.5 in /Users/narmina/.pyenv/versions/3.8.10/envs/env-3.8.10/lib/python3.8/site-packages (from python-dateutil>=2.7.3->pandas>=0.23->pandas_datareader) (1.16.0)\n",
      "Note: you may need to restart the kernel to use updated packages.\n"
     ]
    }
   ],
   "source": [
    "# Installing numba first\n",
    "\n",
    "%pip install numba pandas_datareader"
   ]
  },
  {
   "cell_type": "markdown",
   "id": "e855cc2a-ef72-4bef-9465-7672265298a2",
   "metadata": {},
   "source": [
    "## Comparing runtime\n",
    "\n",
    "First, let's write a simple script which runs some time consuming operation and execute it to get a baseline performance."
   ]
  },
  {
   "cell_type": "markdown",
   "id": "d4e3124c-795c-426c-b82f-745957f75c91",
   "metadata": {},
   "source": [
    "### Example 1. Simple loop"
   ]
  },
  {
   "cell_type": "code",
   "execution_count": 2,
   "id": "529478f2-1547-4d4b-9662-d6ab6aec207d",
   "metadata": {},
   "outputs": [
    {
     "name": "stdout",
     "output_type": "stream",
     "text": [
      "Overwriting main.py\n"
     ]
    }
   ],
   "source": [
    "%%writefile main.py\n",
    "\n",
    "from numba import jit \n",
    "import random\n",
    "import math\n",
    "import time\n",
    "\n",
    "def some_function(n):\n",
    "    z = 0\n",
    "    for i in range(n):\n",
    "        x = random.random()\n",
    "        y = random.random()\n",
    "        z = math.sqrt(x**2 + y**2)\n",
    "        \n",
    "    return z\n",
    "\n",
    "\n",
    "start = time.time()\n",
    "some_function(10000000)\n",
    "end = time.time()\n",
    "\n",
    "print(end-start)"
   ]
  },
  {
   "cell_type": "code",
   "execution_count": 3,
   "id": "c75e4523-5c7c-47ce-8cf6-f52b36f8a2a5",
   "metadata": {},
   "outputs": [
    {
     "name": "stdout",
     "output_type": "stream",
     "text": [
      "3.755401134490967\n"
     ]
    }
   ],
   "source": [
    "!python main.py "
   ]
  },
  {
   "cell_type": "markdown",
   "id": "093db197-bddb-4753-a040-10bddf65bf09",
   "metadata": {},
   "source": [
    "This simple function execution takes ~3.7 seconds. Now, let's see how JIT will optimize this process. All we need to do is to add '@jit' decorator before function declaration.\n",
    "Now, there is an option to specify several parameters:\n",
    "- `nopython` (defaul: `False`). If nopython is `False`, then if for some reason numba will fail to compile given function into machine code, it will use Python interpreter as a fall back option. Some libraries might have some problems with this (e.g. pandas)."
   ]
  },
  {
   "cell_type": "code",
   "execution_count": 4,
   "id": "636d8d38-3f89-4169-ac3f-da4067bec039",
   "metadata": {},
   "outputs": [
    {
     "name": "stdout",
     "output_type": "stream",
     "text": [
      "Overwriting main.py\n"
     ]
    }
   ],
   "source": [
    "%%writefile main.py\n",
    "\n",
    "from numba import jit \n",
    "import random\n",
    "import math\n",
    "import time\n",
    "\n",
    "@jit(nopython=True)\n",
    "def some_function(n):\n",
    "    z = 0\n",
    "    for i in range(n):\n",
    "        x = random.random()\n",
    "        y = random.random()\n",
    "        z = math.sqrt(x**2 + y**2)\n",
    "        \n",
    "    return z\n",
    "\n",
    "\n",
    "start = time.time()\n",
    "some_function(10000000)\n",
    "end = time.time()\n",
    "\n",
    "print(end-start)"
   ]
  },
  {
   "cell_type": "code",
   "execution_count": 5,
   "id": "34b144bf-5008-455a-b157-deb22c9421da",
   "metadata": {},
   "outputs": [
    {
     "name": "stdout",
     "output_type": "stream",
     "text": [
      "0.3960449695587158\n",
      "\u001b[0m"
     ]
    }
   ],
   "source": [
    "!python main.py "
   ]
  },
  {
   "cell_type": "markdown",
   "id": "672cf1e6-2427-4d31-80ef-35a7b43dfb19",
   "metadata": {},
   "source": [
    "If we run it second time, it should be even faster as the first time total execution time includes compilation. The second time it won't be compiled. Let's check it out:\n"
   ]
  },
  {
   "cell_type": "code",
   "execution_count": 6,
   "id": "71273043-2acb-4206-9880-2ea312f4cfea",
   "metadata": {},
   "outputs": [
    {
     "name": "stdout",
     "output_type": "stream",
     "text": [
      "0.38800787925720215\n",
      "\u001b[0m"
     ]
    }
   ],
   "source": [
    "!python main.py "
   ]
  },
  {
   "cell_type": "markdown",
   "id": "8f65e056-96ac-42a2-aeef-f4a193f672f4",
   "metadata": {},
   "source": [
    "### Example #2. Numpy "
   ]
  },
  {
   "cell_type": "code",
   "execution_count": 7,
   "id": "8379360a-64d7-4e23-8f74-22a8c5847d58",
   "metadata": {},
   "outputs": [
    {
     "name": "stdout",
     "output_type": "stream",
     "text": [
      "Overwriting main.py\n"
     ]
    }
   ],
   "source": [
    "%%writefile main.py\n",
    "\n",
    "from numba import jit \n",
    "import random\n",
    "import math\n",
    "import time\n",
    "import numpy as np\n",
    "\n",
    "def some_function(n):\n",
    "    z = np.zeros((n,n))\n",
    "    for i in range(n):\n",
    "        x = np.random.rand(n,n)\n",
    "        y = np.random.rand(n,n)\n",
    "        z += np.sqrt(x**2 + y**2)   \n",
    "    return z\n",
    "\n",
    "\n",
    "start = time.time()\n",
    "some_function(1000)\n",
    "end = time.time()\n",
    "\n",
    "print(end-start)"
   ]
  },
  {
   "cell_type": "code",
   "execution_count": 8,
   "id": "983ed382-14a3-4325-8691-71f214430714",
   "metadata": {},
   "outputs": [
    {
     "name": "stdout",
     "output_type": "stream",
     "text": [
      "18.17553400993347\n"
     ]
    }
   ],
   "source": [
    "!python main.py "
   ]
  },
  {
   "cell_type": "code",
   "execution_count": 9,
   "id": "98708386-2a92-4592-aa88-f6459f9bdb0d",
   "metadata": {},
   "outputs": [
    {
     "name": "stdout",
     "output_type": "stream",
     "text": [
      "Overwriting main.py\n"
     ]
    }
   ],
   "source": [
    "%%writefile main.py\n",
    "\n",
    "from numba import jit \n",
    "import random\n",
    "import math\n",
    "import time\n",
    "import numpy as np\n",
    "\n",
    "@jit(nopython=True)\n",
    "def some_function(n):\n",
    "    z = np.zeros((n,n))\n",
    "    for i in range(n):\n",
    "        x = np.random.rand(n,n)\n",
    "        y = np.random.rand(n,n)\n",
    "        z += np.sqrt(x**2 + y**2)   \n",
    "    return z\n",
    "\n",
    "\n",
    "start = time.time()\n",
    "some_function(1000)\n",
    "end = time.time()\n",
    "\n",
    "print(end-start)"
   ]
  },
  {
   "cell_type": "code",
   "execution_count": 10,
   "id": "1602f196-b6cf-42c4-9d79-3fdf7415e1b8",
   "metadata": {},
   "outputs": [
    {
     "name": "stdout",
     "output_type": "stream",
     "text": [
      "12.464415073394775\n",
      "\u001b[0m"
     ]
    }
   ],
   "source": [
    "!python main.py "
   ]
  },
  {
   "cell_type": "code",
   "execution_count": 11,
   "id": "1a165420-03d9-4acf-8b98-b9b3a7ddb3a7",
   "metadata": {},
   "outputs": [
    {
     "name": "stdout",
     "output_type": "stream",
     "text": [
      "12.477339267730713\n",
      "\u001b[0m"
     ]
    }
   ],
   "source": [
    "!python main.py "
   ]
  },
  {
   "cell_type": "markdown",
   "id": "47244bb5-7619-4145-924f-876b96528289",
   "metadata": {},
   "source": [
    "### Example #3. Pandas "
   ]
  },
  {
   "cell_type": "code",
   "execution_count": 12,
   "id": "5c8c5ca9-52e1-44a8-9493-acd99f430f98",
   "metadata": {},
   "outputs": [
    {
     "name": "stdout",
     "output_type": "stream",
     "text": [
      "Requirement already satisfied: pandas_datareader in /Users/narmina/.pyenv/versions/3.8.10/envs/env-3.8.10/lib/python3.8/site-packages (0.10.0)\n",
      "Requirement already satisfied: pandas>=0.23 in /Users/narmina/.pyenv/versions/3.8.10/envs/env-3.8.10/lib/python3.8/site-packages (from pandas_datareader) (1.3.5)\n",
      "Requirement already satisfied: requests>=2.19.0 in /Users/narmina/.pyenv/versions/3.8.10/envs/env-3.8.10/lib/python3.8/site-packages (from pandas_datareader) (2.28.1)\n",
      "Requirement already satisfied: lxml in /Users/narmina/.pyenv/versions/3.8.10/envs/env-3.8.10/lib/python3.8/site-packages (from pandas_datareader) (4.9.1)\n",
      "Requirement already satisfied: python-dateutil>=2.7.3 in /Users/narmina/.pyenv/versions/3.8.10/envs/env-3.8.10/lib/python3.8/site-packages (from pandas>=0.23->pandas_datareader) (2.8.2)\n",
      "Requirement already satisfied: numpy>=1.17.3 in /Users/narmina/.pyenv/versions/3.8.10/envs/env-3.8.10/lib/python3.8/site-packages (from pandas>=0.23->pandas_datareader) (1.22.4)\n",
      "Requirement already satisfied: pytz>=2017.3 in /Users/narmina/.pyenv/versions/3.8.10/envs/env-3.8.10/lib/python3.8/site-packages (from pandas>=0.23->pandas_datareader) (2022.7.1)\n",
      "Requirement already satisfied: urllib3<1.27,>=1.21.1 in /Users/narmina/.pyenv/versions/3.8.10/envs/env-3.8.10/lib/python3.8/site-packages (from requests>=2.19.0->pandas_datareader) (1.26.13)\n",
      "Requirement already satisfied: charset-normalizer<3,>=2 in /Users/narmina/.pyenv/versions/3.8.10/envs/env-3.8.10/lib/python3.8/site-packages (from requests>=2.19.0->pandas_datareader) (2.1.1)\n",
      "Requirement already satisfied: certifi>=2017.4.17 in /Users/narmina/.pyenv/versions/3.8.10/envs/env-3.8.10/lib/python3.8/site-packages (from requests>=2.19.0->pandas_datareader) (2022.12.7)\n",
      "Requirement already satisfied: idna<4,>=2.5 in /Users/narmina/.pyenv/versions/3.8.10/envs/env-3.8.10/lib/python3.8/site-packages (from requests>=2.19.0->pandas_datareader) (3.4)\n",
      "Requirement already satisfied: six>=1.5 in /Users/narmina/.pyenv/versions/3.8.10/envs/env-3.8.10/lib/python3.8/site-packages (from python-dateutil>=2.7.3->pandas>=0.23->pandas_datareader) (1.16.0)\n",
      "Note: you may need to restart the kernel to use updated packages.\n"
     ]
    }
   ],
   "source": [
    "%pip install pandas_datareader"
   ]
  },
  {
   "cell_type": "code",
   "execution_count": 13,
   "id": "c198a241-8dda-48fb-86d6-f931457e5c0a",
   "metadata": {},
   "outputs": [
    {
     "name": "stdout",
     "output_type": "stream",
     "text": [
      "Overwriting main.py\n"
     ]
    }
   ],
   "source": [
    "%%writefile main.py\n",
    "\n",
    "from numba import jit \n",
    "import random\n",
    "import math\n",
    "import time\n",
    "import numpy as np\n",
    "import pandas as pd\n",
    "import pandas_datareader as web\n",
    "\n",
    "#just a meaningless function that does something\n",
    "def pandas_function(data):\n",
    "    result = data.sort_values(by=['Volume'])\n",
    "    result = result.applymap(math.sqrt)\n",
    "    result += 2\n",
    "    result = result.applymap(lambda x: x**2)\n",
    "    result = result.T\n",
    "    return result\n",
    "\n",
    "data = web.DataReader('AAPL','stooq')\n",
    "\n",
    "start = time.time()\n",
    "pandas_function(data)\n",
    "end = time.time()\n",
    "\n",
    "print(end-start)"
   ]
  },
  {
   "cell_type": "code",
   "execution_count": 14,
   "id": "6454c797-3268-4671-8d7e-54a1b78fd92e",
   "metadata": {},
   "outputs": [
    {
     "name": "stdout",
     "output_type": "stream",
     "text": [
      "0.006792783737182617\n"
     ]
    }
   ],
   "source": [
    "!python main.py "
   ]
  },
  {
   "cell_type": "code",
   "execution_count": 15,
   "id": "368bc2e5-a314-4f69-8ba4-6fc49123ac49",
   "metadata": {},
   "outputs": [
    {
     "name": "stdout",
     "output_type": "stream",
     "text": [
      "Overwriting main.py\n"
     ]
    }
   ],
   "source": [
    "%%writefile main.py\n",
    "\n",
    "from numba import jit \n",
    "import random\n",
    "import math\n",
    "import time\n",
    "import numpy as np\n",
    "import pandas as pd\n",
    "import pandas_datareader as web\n",
    "\n",
    "#just a meaningless function that does something\n",
    "@jit(nopython=True)\n",
    "def pandas_function(data):\n",
    "    result = data.sort_values(by=['Volume'])\n",
    "    result = result.applymap(math.sqrt)\n",
    "    result += 2\n",
    "    result = result.applymap(lambda x: x**2)\n",
    "    result = result.T\n",
    "    return result\n",
    "\n",
    "data = web.DataReader('AAPL','stooq')\n",
    "\n",
    "start = time.time()\n",
    "pandas_function(data)\n",
    "end = time.time()\n",
    "\n",
    "print(end-start)"
   ]
  },
  {
   "cell_type": "code",
   "execution_count": 16,
   "id": "ddcde415-5ae6-42e4-8a64-c0349d74d402",
   "metadata": {},
   "outputs": [
    {
     "name": "stdout",
     "output_type": "stream",
     "text": [
      "Traceback (most recent call last):\n",
      "  File \"main.py\", line 23, in <module>\n",
      "    pandas_function(data)\n",
      "  File \"/Users/narmina/.pyenv/versions/env-3.8.10/lib/python3.8/site-packages/numba/core/dispatcher.py\", line 468, in _compile_for_args\n",
      "    error_rewrite(e, 'typing')\n",
      "  File \"/Users/narmina/.pyenv/versions/env-3.8.10/lib/python3.8/site-packages/numba/core/dispatcher.py\", line 409, in error_rewrite\n",
      "    raise e.with_traceback(None)\n",
      "numba.core.errors.TypingError: Failed in nopython mode pipeline (step: nopython frontend)\n",
      "\u001b[1m\u001b[1mnon-precise type pyobject\u001b[0m\n",
      "\u001b[0m\u001b[1mDuring: typing of argument at main.py (13)\u001b[0m\n",
      "\u001b[1m\n",
      "File \"main.py\", line 13:\u001b[0m\n",
      "\u001b[1mdef pandas_function(data):\n",
      "\u001b[1m    result = data.sort_values(by=['Volume'])\n",
      "\u001b[0m    \u001b[1m^\u001b[0m\u001b[0m \n",
      "\n",
      "This error may have been caused by the following argument(s):\n",
      "- argument 0: \u001b[1mCannot determine Numba type of <class 'pandas.core.frame.DataFrame'>\u001b[0m\n",
      "\n",
      "\u001b[0m"
     ]
    }
   ],
   "source": [
    "!python main.py "
   ]
  },
  {
   "cell_type": "code",
   "execution_count": 17,
   "id": "5e826956-6508-41a8-a8ef-7f66bfa63925",
   "metadata": {},
   "outputs": [
    {
     "name": "stdout",
     "output_type": "stream",
     "text": [
      "Overwriting main.py\n"
     ]
    }
   ],
   "source": [
    "%%writefile main.py\n",
    "\n",
    "from numba import jit \n",
    "import random\n",
    "import math\n",
    "import time\n",
    "import numpy as np\n",
    "import pandas as pd\n",
    "import pandas_datareader as web\n",
    "\n",
    "#just a meaningless function that does something\n",
    "@jit\n",
    "def pandas_function(data):\n",
    "    result = data.sort_values(by=['Volume'])\n",
    "    result = result.applymap(math.sqrt)\n",
    "    result += 2\n",
    "    result = result.applymap(lambda x: x**2)\n",
    "    result = result.T\n",
    "    return result\n",
    "\n",
    "data = web.DataReader('AAPL','stooq')\n",
    "\n",
    "start = time.time()\n",
    "pandas_function(data)\n",
    "end = time.time()\n",
    "\n",
    "print(end-start)"
   ]
  },
  {
   "cell_type": "code",
   "execution_count": 18,
   "id": "092c716c-6220-4798-9915-42de45d7676c",
   "metadata": {},
   "outputs": [
    {
     "name": "stdout",
     "output_type": "stream",
     "text": [
      "main.py:11: NumbaWarning: \u001b[1m\n",
      "Compilation is falling back to object mode WITH looplifting enabled because Function \"pandas_function\" failed type inference due to: \u001b[1m\u001b[1mnon-precise type pyobject\u001b[0m\n",
      "\u001b[0m\u001b[1mDuring: typing of argument at main.py (13)\u001b[0m\n",
      "\u001b[1m\n",
      "File \"main.py\", line 13:\u001b[0m\n",
      "\u001b[1mdef pandas_function(data):\n",
      "\u001b[1m    result = data.sort_values(by=['Volume'])\n",
      "\u001b[0m    \u001b[1m^\u001b[0m\u001b[0m\n",
      "\u001b[0m\n",
      "  @jit\n",
      "/Users/narmina/.pyenv/versions/env-3.8.10/lib/python3.8/site-packages/numba/core/object_mode_passes.py:151: NumbaWarning: \u001b[1mFunction \"pandas_function\" was compiled in object mode without forceobj=True.\n",
      "\u001b[1m\n",
      "File \"main.py\", line 12:\u001b[0m\n",
      "\u001b[1m@jit\n",
      "\u001b[1mdef pandas_function(data):\n",
      "\u001b[0m\u001b[1m^\u001b[0m\u001b[0m\n",
      "\u001b[0m\n",
      "  warnings.warn(errors.NumbaWarning(warn_msg,\n",
      "/Users/narmina/.pyenv/versions/env-3.8.10/lib/python3.8/site-packages/numba/core/object_mode_passes.py:161: NumbaDeprecationWarning: \u001b[1m\n",
      "Fall-back from the nopython compilation path to the object mode compilation path has been detected, this is deprecated behaviour.\n",
      "\n",
      "For more information visit https://numba.readthedocs.io/en/stable/reference/deprecation.html#deprecation-of-object-mode-fall-back-behaviour-when-using-jit\n",
      "\u001b[1m\n",
      "File \"main.py\", line 12:\u001b[0m\n",
      "\u001b[1m@jit\n",
      "\u001b[1mdef pandas_function(data):\n",
      "\u001b[0m\u001b[1m^\u001b[0m\u001b[0m\n",
      "\u001b[0m\n",
      "  warnings.warn(errors.NumbaDeprecationWarning(msg,\n",
      "Traceback (most recent call last):\n",
      "  File \"main.py\", line 23, in <module>\n",
      "    pandas_function(data)\n",
      "NameError: global name '<lambda>' is not defined\n",
      "\u001b[0m"
     ]
    }
   ],
   "source": [
    "!python main.py "
   ]
  },
  {
   "cell_type": "markdown",
   "id": "52acdfc8-9a15-43a0-a69e-3071735e630a",
   "metadata": {},
   "source": [
    "It didn't like lambda, let's get rid of it:"
   ]
  },
  {
   "cell_type": "code",
   "execution_count": 19,
   "id": "417cd92b-9c4b-445e-9006-e01e6f58c5dc",
   "metadata": {},
   "outputs": [
    {
     "name": "stdout",
     "output_type": "stream",
     "text": [
      "Overwriting main.py\n"
     ]
    }
   ],
   "source": [
    "%%writefile main.py\n",
    "\n",
    "from numba import jit \n",
    "import random\n",
    "import math\n",
    "import time\n",
    "import numpy as np\n",
    "import pandas as pd\n",
    "import pandas_datareader as web\n",
    "\n",
    "#just a meaningless function that does something\n",
    "@jit\n",
    "def pandas_function(data):\n",
    "    result = data.sort_values(by=['Volume'])\n",
    "    result = result.applymap(math.sqrt)\n",
    "    result += 2\n",
    "    result = result.T\n",
    "    return result\n",
    "\n",
    "data = web.DataReader('AAPL','stooq')\n",
    "\n",
    "start = time.time()\n",
    "pandas_function(data)\n",
    "end = time.time()\n",
    "\n",
    "print(end-start)"
   ]
  },
  {
   "cell_type": "code",
   "execution_count": 20,
   "id": "fa4b800b-3ca8-4ecd-bea2-1cfc96395be8",
   "metadata": {},
   "outputs": [
    {
     "name": "stdout",
     "output_type": "stream",
     "text": [
      "main.py:11: NumbaWarning: \u001b[1m\n",
      "Compilation is falling back to object mode WITH looplifting enabled because Function \"pandas_function\" failed type inference due to: \u001b[1m\u001b[1mnon-precise type pyobject\u001b[0m\n",
      "\u001b[0m\u001b[1mDuring: typing of argument at main.py (13)\u001b[0m\n",
      "\u001b[1m\n",
      "File \"main.py\", line 13:\u001b[0m\n",
      "\u001b[1mdef pandas_function(data):\n",
      "\u001b[1m    result = data.sort_values(by=['Volume'])\n",
      "\u001b[0m    \u001b[1m^\u001b[0m\u001b[0m\n",
      "\u001b[0m\n",
      "  @jit\n",
      "/Users/narmina/.pyenv/versions/env-3.8.10/lib/python3.8/site-packages/numba/core/object_mode_passes.py:151: NumbaWarning: \u001b[1mFunction \"pandas_function\" was compiled in object mode without forceobj=True.\n",
      "\u001b[1m\n",
      "File \"main.py\", line 12:\u001b[0m\n",
      "\u001b[1m@jit\n",
      "\u001b[1mdef pandas_function(data):\n",
      "\u001b[0m\u001b[1m^\u001b[0m\u001b[0m\n",
      "\u001b[0m\n",
      "  warnings.warn(errors.NumbaWarning(warn_msg,\n",
      "/Users/narmina/.pyenv/versions/env-3.8.10/lib/python3.8/site-packages/numba/core/object_mode_passes.py:161: NumbaDeprecationWarning: \u001b[1m\n",
      "Fall-back from the nopython compilation path to the object mode compilation path has been detected, this is deprecated behaviour.\n",
      "\n",
      "For more information visit https://numba.readthedocs.io/en/stable/reference/deprecation.html#deprecation-of-object-mode-fall-back-behaviour-when-using-jit\n",
      "\u001b[1m\n",
      "File \"main.py\", line 12:\u001b[0m\n",
      "\u001b[1m@jit\n",
      "\u001b[1mdef pandas_function(data):\n",
      "\u001b[0m\u001b[1m^\u001b[0m\u001b[0m\n",
      "\u001b[0m\n",
      "  warnings.warn(errors.NumbaDeprecationWarning(msg,\n",
      "0.2825660705566406\n",
      "\u001b[0m"
     ]
    }
   ],
   "source": [
    "!python main.py "
   ]
  },
  {
   "cell_type": "markdown",
   "id": "90b7989f-0241-48de-9ab1-69c2e5f36c0c",
   "metadata": {},
   "source": [
    "As you can see, Numba doesn't work with Pandas."
   ]
  },
  {
   "cell_type": "code",
   "execution_count": null,
   "id": "09c4ec28-4611-40aa-a3f8-2f35ec11ebd5",
   "metadata": {},
   "outputs": [],
   "source": []
  }
 ],
 "metadata": {
  "kernelspec": {
   "display_name": "env-3.8.10",
   "language": "python",
   "name": "env-3.8.10"
  },
  "language_info": {
   "codemirror_mode": {
    "name": "ipython",
    "version": 3
   },
   "file_extension": ".py",
   "mimetype": "text/x-python",
   "name": "python",
   "nbconvert_exporter": "python",
   "pygments_lexer": "ipython3",
   "version": "3.8.10"
  }
 },
 "nbformat": 4,
 "nbformat_minor": 5
}
