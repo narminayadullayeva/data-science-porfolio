{
 "cells": [
  {
   "cell_type": "markdown",
   "id": "5f993a64-c24d-4203-bcef-668a3208eaec",
   "metadata": {},
   "source": [
    "# Carbon Footprint"
   ]
  },
  {
   "cell_type": "markdown",
   "id": "22783752-0b05-4743-aeaa-0d36819ff17c",
   "metadata": {},
   "source": [
    "Here is a simple example of how to calculate carbon footprint in Python:\n",
    "* gCO2 refers to grams of carbon dioxide. It is a unit of measurement for the amount of CO2 emitted or produced."
   ]
  },
  {
   "cell_type": "code",
   "execution_count": 2,
   "id": "ca6c387b-7999-4ca8-bcad-df7420d85ff2",
   "metadata": {},
   "outputs": [
    {
     "name": "stdout",
     "output_type": "stream",
     "text": [
      "20.0\n",
      "10.0\n",
      "100.0\n"
     ]
    }
   ],
   "source": [
    "def carbon_footprint(distance, mode_of_transportation):\n",
    "    if mode_of_transportation == \"car\":\n",
    "        return distance * 0.2 # assume 20 gCO2/km for a car\n",
    "    elif mode_of_transportation == \"train\":\n",
    "        return distance * 0.1 # assume 10 gCO2/km for a train\n",
    "    elif mode_of_transportation == \"plane\":\n",
    "        return distance * 1.0 # assume 100 gCO2/km for a plane\n",
    "    else:\n",
    "        return 0 # unknown mode of transportation\n",
    "\n",
    "print(carbon_footprint(100, \"car\")) # 20.0 gCO2\n",
    "print(carbon_footprint(100, \"train\")) # 10.0 gCO2\n",
    "print(carbon_footprint(100, \"plane\")) # 100.0 gCO2"
   ]
  },
  {
   "cell_type": "markdown",
   "id": "4ecb431e-9628-4494-af28-3c38c77b4f19",
   "metadata": {},
   "source": [
    "Note that this is a very basic example and the actual carbon footprint depends on various factors such as fuel efficiency, occupancy, and so on. The values used in this example are for illustration purposes only.\n"
   ]
  },
  {
   "cell_type": "code",
   "execution_count": null,
   "id": "1ee707dd-3959-44f4-b618-7ea6ff30bbb8",
   "metadata": {},
   "outputs": [],
   "source": [
    "import pandas as pd\n",
    "import numpy as np\n",
    "from sklearn.linear_model import LinearRegression\n",
    "from sklearn.model_selection import train_test_split\n",
    "from sklearn.metrics import mean_squared_error\n",
    "\n",
    "# Load the data into a pandas dataframe\n",
    "df = pd.read_csv(\"carbon_footprint_data.csv\")\n",
    "\n",
    "# Split the data into features (predictors) and target (carbon footprint)\n",
    "X = df.drop('carbon_footprint', axis=1)\n",
    "y = df['carbon_footprint']\n",
    "\n",
    "# Split the data into training and testing sets\n",
    "X_train, X_test, y_train, y_test = train_test_split(X, y, test_size=0.2)\n",
    "\n",
    "# Train the linear regression model on the training data\n",
    "reg = LinearRegression().fit(X_train, y_train)\n",
    "\n",
    "# Predict carbon footprints on the test data\n",
    "y_pred = reg.predict(X_test)\n",
    "\n",
    "# Evaluate the model performance using mean squared error\n",
    "mse = mean_squared_error(y_test, y_pred)\n",
    "print(\"Mean Squared Error:\", mse)"
   ]
  },
  {
   "cell_type": "markdown",
   "id": "d9f53e6f-3d37-413b-ab0c-77dcf6c3fe96",
   "metadata": {},
   "source": [
    "https://github.com/owid/co2-data"
   ]
  },
  {
   "cell_type": "code",
   "execution_count": null,
   "id": "3801e005-97bf-4c0c-9c63-65e706ee8238",
   "metadata": {},
   "outputs": [],
   "source": []
  }
 ],
 "metadata": {
  "kernelspec": {
   "display_name": "Python 3 (ipykernel)",
   "language": "python",
   "name": "python3"
  },
  "language_info": {
   "codemirror_mode": {
    "name": "ipython",
    "version": 3
   },
   "file_extension": ".py",
   "mimetype": "text/x-python",
   "name": "python",
   "nbconvert_exporter": "python",
   "pygments_lexer": "ipython3",
   "version": "3.8.10"
  }
 },
 "nbformat": 4,
 "nbformat_minor": 5
}
