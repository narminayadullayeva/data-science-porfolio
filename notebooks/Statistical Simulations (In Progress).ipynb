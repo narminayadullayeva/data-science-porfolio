{
 "cells": [
  {
   "cell_type": "markdown",
   "id": "9a279f53-c417-41ed-8a8f-868e3b89c3ec",
   "metadata": {},
   "source": [
    "# Statistical Simulations \n",
    "\n",
    "In this notebook we will go through some methods that can be used for simulating data generation processes. Here, to simulate different types of random variables we will be utilizing nothing fancy but some standard functions from `numpy.random` module. \n",
    "\n",
    "For more information refer to the official docs:\n",
    "https://numpy.org/doc/stable/reference/random/index.html?highlight=random#module-numpy.random\n",
    "\n",
    "Note that this notebook was inspired by DataCamp course on Statistical Simulations."
   ]
  },
  {
   "cell_type": "markdown",
   "id": "41bf1314-8f6c-4410-b58b-da83055e489a",
   "metadata": {},
   "source": [
    "## Simulations\n",
    "\n",
    "* Allows us to model real-world events. \n",
    "\n",
    "**Simulation steps:**\n",
    "\n",
    "1. Define possible outcomes for random variables\n",
    "2. Assign probabilities.\n",
    "3. Define relationships between random variables.\n",
    "4. Get multriple outcomes by repeated random sampling\n",
    "5. Analyze sample outcomes.\n"
   ]
  },
  {
   "cell_type": "markdown",
   "id": "a816224e-a668-4378-a010-b9b5dbb1b7d1",
   "metadata": {},
   "source": [
    "Discrete Probability Distributions\n",
    "\n",
    "* Poisson\n",
    "* Binomial"
   ]
  },
  {
   "cell_type": "code",
   "execution_count": 2,
   "id": "87031613-ee28-48ad-b302-714fa06748c9",
   "metadata": {},
   "outputs": [],
   "source": [
    "import numpy as np"
   ]
  },
  {
   "cell_type": "code",
   "execution_count": 3,
   "id": "6e597bce-2e4a-4226-b10b-e57814142950",
   "metadata": {},
   "outputs": [
    {
     "name": "stdout",
     "output_type": "stream",
     "text": [
      "|Lambda - sample mean| with 3 samples is 0.33333333333333304 and with 1000 samples is 0.07699999999999996. \n"
     ]
    }
   ],
   "source": [
    "## Poisson\n",
    "# Initialize seed and parameters\n",
    "np.random.seed(123) \n",
    "lam, size_1, size_2 = 5, 3, 1000  \n",
    "\n",
    "# Draw samples & calculate absolute difference between lambda and sample mean\n",
    "samples_1 = np.random.poisson(lam, size_1)\n",
    "samples_2 = np.random.poisson(lam, size_2)\n",
    "answer_1 = abs(lam - np.mean(samples_1))\n",
    "answer_2 = abs(lam - np.mean(samples_2))\n",
    "\n",
    "print(\"|Lambda - sample mean| with {} samples is {} and with {} samples is {}. \".format(size_1, answer_1, size_2, answer_2))\n"
   ]
  },
  {
   "cell_type": "code",
   "execution_count": 4,
   "id": "2341a7f5-9f37-477e-b117-35a20cf0455c",
   "metadata": {},
   "outputs": [
    {
     "name": "stdout",
     "output_type": "stream",
     "text": [
      "[('Club', 12), ('Heart', 5), ('Heart', 9)]\n"
     ]
    }
   ],
   "source": [
    "# shuffling the deck of cards\n",
    "\n",
    "deck_of_cards = [('Diamond', 9), ('Spade', 9), ('Spade', 4), ('Club', 11), ('Club', 5), ('Heart', 11), ('Club', 8), ('Club', 0), ('Diamond', 4), ('Heart', 0), ('Heart', 5), ('Heart', 10), ('Spade', 10), ('Heart', 8), ('Heart', 12), ('Spade', 5), ('Spade', 11), ('Heart', 1), ('Heart', 6), ('Spade', 3), ('Diamond', 1), ('Spade', 0), ('Diamond', 5), ('Club', 2), ('Spade', 1), ('Diamond', 10), ('Heart', 7), ('Club', 7), ('Diamond', 11), ('Heart', 3), ('Club', 10), ('Diamond', 7), ('Heart', 4), ('Club', 3), ('Diamond', 8), ('Club', 1), ('Diamond', 12), ('Club', 12), ('Diamond', 0), ('Diamond', 2), ('Heart', 9), ('Spade', 6), ('Spade', 7), ('Club', 9), ('Diamond', 3), ('Club', 6), ('Club', 4), ('Spade', 12), ('Spade', 8), ('Spade', 2), ('Heart', 2), ('Diamond', 6)]\n",
    "\n",
    "# Shuffle the deck\n",
    "np.random.shuffle(deck_of_cards)\n",
    "\n",
    "# Print out the top three cards\n",
    "card_choices_after_shuffle = deck_of_cards[:3]\n",
    "print(card_choices_after_shuffle)\n"
   ]
  },
  {
   "cell_type": "markdown",
   "id": "d82ca76d-3510-4902-b7bc-a57f01ec763a",
   "metadata": {},
   "source": [
    "**Throwing a fair die**\n",
    "\n",
    "Once you grasp the basics of designing a simulation, you can apply it to any system or process. Next, we will learn how each step is implemented using some basic examples.\n",
    "\n",
    "As we have learned, simulation involves repeated random sampling. The first step then is to get one random sample. Once we have that, all we do is repeat the process multiple times. This exercise will focus on understanding how we get one random sample. We will study this in the context of throwing a fair six-sided die.\n",
    "\n",
    "By the end of this exercise, you will be familiar with how to implement the first two steps of running a simulation - defining a random variable and assigning probabilities."
   ]
  },
  {
   "cell_type": "code",
   "execution_count": 7,
   "id": "d0d78820-9305-4003-bbb7-df65bca2f011",
   "metadata": {},
   "outputs": [
    {
     "name": "stdout",
     "output_type": "stream",
     "text": [
      "Outcome of the throw: 3\n"
     ]
    }
   ],
   "source": [
    "# Define die outcomes and probabilities\n",
    "die, probabilities, throws = [1,2,3,4,5,6], [1./6.,1./6.,1./6.,1./6.,1./6.,1./6.], 1\n",
    "\n",
    "# Use np.random.choice to throw the die once and record the outcome\n",
    "outcome = np.random.choice(die, size=1, p=probabilities)\n",
    "print(\"Outcome of the throw: {}\".format(outcome[0]))"
   ]
  },
  {
   "cell_type": "code",
   "execution_count": null,
   "id": "c3fd92da-7614-4607-80cf-81f15f4bc445",
   "metadata": {},
   "outputs": [],
   "source": [
    "# Initialize number of dice, simulate & record outcome\n",
    "die, probabilities, num_dice = [1,2,3,4,5,6], [1/6, 1/6, 1/6, 1/6, 1/6, 1/6], 2\n",
    "outcomes = np.random.choice(die, size=2, p=probabilities) \n",
    "\n",
    "# Win if the two dice show the same number\n",
    "if outcomes[0] == outcomes[1]: \n",
    "    answer = 'win' \n",
    "else:\n",
    "    answer = 'lose'\n",
    "\n",
    "print(\"The dice show {} and {}. You {}!\".format(outcomes[0], outcomes[1], answer))"
   ]
  },
  {
   "cell_type": "code",
   "execution_count": null,
   "id": "c53a8f2f-b615-428b-b105-25c7e8a2315a",
   "metadata": {},
   "outputs": [],
   "source": [
    "# Initialize model parameters & simulate dice throw\n",
    "die, probabilities, num_dice = [1,2,3,4,5,6], [1/6, 1/6, 1/6, 1/6, 1/6, 1/6], 2\n",
    "sims, wins = 100, 0\n",
    "\n",
    "for i in range(sims):\n",
    "    outcomes = np.random.choice(die, size=2, p=probabilities)  \n",
    "    # Increment `wins` by 1 if the dice show same number\n",
    "    if outcomes[0]==outcomes[1]: \n",
    "        wins = wins + 1 \n",
    "\n",
    "print(\"In {} games, you win {} times\".format(sims, wins))"
   ]
  },
  {
   "cell_type": "markdown",
   "id": "99fe1897-8e69-4d6f-b422-775ae8e6f6da",
   "metadata": {},
   "source": [
    "We will use simulations to figure out whether or not we want to buy a lottery ticket. Suppose you have the opportunity to buy a lottery ticket which gives you a shot at a grand prize of 10,000. \n",
    "Since there are 1000 tickets in total, your probability of winning is 1 in 1000. Each ticket costs 10. Let's use our understanding of basic simulations to first simulate one drawing of the lottery."
   ]
  },
  {
   "cell_type": "code",
   "execution_count": 8,
   "id": "99170352-952f-43ac-afcd-8a422af38b4f",
   "metadata": {},
   "outputs": [
    {
     "name": "stdout",
     "output_type": "stream",
     "text": [
      "Outcome of one drawing of the lottery is [-10]\n"
     ]
    }
   ],
   "source": [
    "# Pre-defined constant variables\n",
    "lottery_ticket_cost, num_tickets, grand_prize = 10, 1000, 10000\n",
    "\n",
    "# Probability of winning\n",
    "chance_of_winning = 1/1000\n",
    "\n",
    "# Simulate a single drawing of the lottery\n",
    "gains = [-lottery_ticket_cost, grand_prize-lottery_ticket_cost]\n",
    "probability = [1-chance_of_winning, chance_of_winning]\n",
    "outcome = np.random.choice(a=gains, size=1, p=probability, replace=True)\n",
    "\n",
    "print(\"Outcome of one drawing of the lottery is {}\".format(outcome))"
   ]
  },
  {
   "cell_type": "markdown",
   "id": "2c76264c-e1f3-4092-9dc2-a9b1fc2c1871",
   "metadata": {},
   "source": [
    "Repeating the process gives us multiple outcomes. We can think of this as multiple universes where the same lottery drawing occurred. We can then determine the average winnings across all these universes. If the average winnings are greater than what we pay for the ticket then it makes sense to buy it, otherwise, we might not want to buy the ticket.\n",
    "\n",
    "This is typically how simulations are used for evaluating business investments. After completing this exercise, you will have the basic tools required to use simulations for decision-making."
   ]
  },
  {
   "cell_type": "code",
   "execution_count": null,
   "id": "fe76c174-7e22-484b-84f1-93c33f957324",
   "metadata": {},
   "outputs": [],
   "source": [
    "# Initialize size and simulate outcome\n",
    "lottery_ticket_cost, num_tickets, grand_prize = 10, 1000, 10000\n",
    "chance_of_winning = 1/num_tickets\n",
    "size = 2000\n",
    "payoffs = [-10,10000-10]\n",
    "probs = [1-chance_of_winning,chance_of_winning]\n",
    "\n",
    "outcomes = np.random.choice(a=payoffs, size=size, p=probs, replace=True)\n",
    "\n",
    "# Mean of outcomes.\n",
    "answer = outcomes.mean()\n",
    "print(\"Average payoff from {} simulations = {}\".format(size, answer))"
   ]
  },
  {
   "cell_type": "markdown",
   "id": "32240e0f-b925-420b-a59f-1fa7f6843d8e",
   "metadata": {},
   "source": [
    "Calculating a break-even lottery price\n",
    "Simulations allow us to ask more nuanced questions that might not necessarily have an easy analytical solution. Rather than solving a complex mathematical formula, we directly get multiple sample outcomes. We can run experiments by modifying inputs and studying how those changes impact the system. For example, once we have a moderately reasonable model of global weather patterns, we could evaluate the impact of increased greenhouse gas emissions.\n",
    "\n",
    "In the lottery example, we might want to know how expensive the ticket needs to be for it to not make sense to buy it. To understand this, we need to modify the ticket cost to see when the expected payoff is negative.\n",
    "\n",
    "grand_prize, num_tickets, and chance_of_winning are loaded in the environment."
   ]
  },
  {
   "cell_type": "code",
   "execution_count": 9,
   "id": "d0eae341-bced-4b64-ae12-367a4a464c2d",
   "metadata": {},
   "outputs": [
    {
     "name": "stdout",
     "output_type": "stream",
     "text": [
      "The highest price at which it makes sense to buy the ticket is 6\n"
     ]
    }
   ],
   "source": [
    "# Initialize simulations and cost of ticket\n",
    "sims, lottery_ticket_cost = 3000, 0\n",
    "\n",
    "# Use a while loop to increment `lottery_ticket_cost` till average value of outcomes falls below zero\n",
    "while 1:\n",
    "    outcomes = np.random.choice([-lottery_ticket_cost, grand_prize-lottery_ticket_cost],\n",
    "                 size=sims, p=[1-chance_of_winning, chance_of_winning], replace=True)\n",
    "    if outcomes.mean() < 0:\n",
    "        break\n",
    "    else:\n",
    "        lottery_ticket_cost += 1\n",
    "answer = lottery_ticket_cost - 1\n",
    "\n",
    "print(\"The highest price at which it makes sense to buy the ticket is {}\".format(answer))"
   ]
  },
  {
   "cell_type": "markdown",
   "id": "104a8244-287d-4ee2-9bf4-b4cf032a51ba",
   "metadata": {},
   "source": [
    "## Simulations for Probability Estimation\n",
    "\n",
    "Steps:\n",
    "\n",
    "1. Construct sample space or population\n",
    "2. Determine how to simulate one outcome\n",
    "3. Determine rule for success\n",
    "4. sample repeatedly and count successes\n",
    "5. Calculate frequency of successes to estimate probability\n"
   ]
  },
  {
   "cell_type": "code",
   "execution_count": 11,
   "id": "0c14e764-6cec-4768-80a4-8c13712f53e5",
   "metadata": {},
   "outputs": [
    {
     "data": {
      "text/plain": [
       "0.3076923076923077"
      ]
     },
     "execution_count": 11,
     "metadata": {},
     "output_type": "execute_result"
    }
   ],
   "source": [
    "4/52 + 13/52 - 1/52\n"
   ]
  },
  {
   "cell_type": "markdown",
   "id": "aac93c29-43a3-4236-8554-342845d077d1",
   "metadata": {},
   "source": [
    "Two of a kind\n",
    "Now let's use simulation to estimate probabilities. Suppose you've been invited to a game of poker at your friend's home. In this variation of the game, you are dealt five cards and the player with the better hand wins. You will use a simulation to estimate the probabilities of getting certain hands. Let's work on estimating the probability of getting at least two of a kind. Two of a kind is when you get two cards of different suites but having the same numeric value (e.g., 2 of hearts, 2 of spades, and 3 other cards).\n",
    "\n",
    "By the end of this exercise, you will know how to use simulation to calculate probabilities for card games."
   ]
  },
  {
   "cell_type": "code",
   "execution_count": null,
   "id": "724c03a4-f40c-4909-a132-6b49c0985361",
   "metadata": {},
   "outputs": [],
   "source": [
    "# Shuffle deck & count card occurrences in the hand\n",
    "n_sims, two_kind = 10000, 0\n",
    "for i in range(n_sims):\n",
    "    np.random.shuffle(deck_of_cards)\n",
    "    hand, cards_in_hand = deck_of_cards[0:5], {}\n",
    "    for [suite, numeric_value] in hand:\n",
    "        # Count occurrences of each numeric value\n",
    "        cards_in_hand[numeric_value] = cards_in_hand.get(numeric_value, 0) + 1\n",
    "    \n",
    "    # Condition for getting at least 2 of a kind\n",
    "    if np.max(list(cards_in_hand.values())) >=2: \n",
    "        two_kind += 1\n",
    "\n",
    "print(\"Probability of seeing at least two of a kind = {} \".format(two_kind/n_sims))"
   ]
  },
  {
   "cell_type": "markdown",
   "id": "e600d69d-d7f8-4cc0-bb64-42915677ca28",
   "metadata": {},
   "source": [
    "**Game of thirteen**\n",
    "\n",
    "A famous French mathematician Pierre Raymond De Montmart, who was known for his work in combinatorics, proposed a simple game called as Game of Thirteen. You have a deck of 13 cards, each numbered from 1 through 13. Shuffle this deck and draw cards one by one. A coincidence is when the number on the card matches the order in which the card is drawn. For instance, if the 5th card you draw happens to be a 5, it's a coincidence. You win the game if you get through all the cards without any coincidences. Let's calculate the probability of winning at this game using simulation.\n",
    "\n",
    "By completing this exercise, you will further strengthen your ability to cast abstract problems into the simulation framework for estimating probabilities."
   ]
  },
  {
   "cell_type": "markdown",
   "id": "0fd9f6a9-f51f-4349-a872-90bf88b4e1ff",
   "metadata": {},
   "source": [
    "* For each drawing, draw all the cards in deck without replacement and assign to draw.\n",
    "* Check if there are any coincidences in the draw and, if there are, increment the coincidences counter by 1.\n",
    "* Calculate winning probability as the fraction of games without any coincidences and use prob_of_winning to print your results."
   ]
  },
  {
   "cell_type": "code",
   "execution_count": 11,
   "id": "473c8d90-4cac-4d73-a8ed-4ea507598e1d",
   "metadata": {},
   "outputs": [
    {
     "name": "stdout",
     "output_type": "stream",
     "text": [
      "Probability of winning = 0.359\n"
     ]
    }
   ],
   "source": [
    "# Pre-set constant variables\n",
    "deck, sims, coincidences = np.arange(1, 14), 10000, 0\n",
    "\n",
    "for i in range(sims):\n",
    "    # Draw all the cards without replacement to simulate one game\n",
    "    draw = np.random.choice(deck, size=13, replace=False)\n",
    "    # Check if there are any coincidences\n",
    "    coincidence = (draw == list(np.arange(1, 14))).any()\n",
    "    if coincidence == True: \n",
    "        coincidences += 1\n",
    "\n",
    "# Calculate probability of winning\n",
    "prob_of_winning = (10000 - coincidences)/10000\n",
    "print(\"Probability of winning = {}\".format(prob_of_winning))"
   ]
  },
  {
   "cell_type": "markdown",
   "id": "0955be44-31f8-453d-9c88-318905c70db5",
   "metadata": {},
   "source": [
    "### The conditional urn\n",
    "\n",
    "As we've learned, conditional probability is defined as the probability of an event given another event. To illustrate this concept, let's turn to an urn problem.\n",
    "\n",
    "We have an urn that contains 7 white and 6 black balls. Four balls are drawn at random. We'd like to know the probability that the first and third balls are white, while the second and the fourth balls are black.\n",
    "\n",
    "Upon completion, you will learn to manipulate simulations to calculate simple conditional probabilities."
   ]
  },
  {
   "cell_type": "markdown",
   "id": "0dd9b6c6-ee77-42a6-b422-c965cb46cef3",
   "metadata": {},
   "source": [
    "Instructions\n",
    "\n",
    "- Initialize the counter success to 0 and sims to 5000.\n",
    "- Define a list, urn, with 7 white balls ('w') and 6 black balls ('b').\n",
    "- Draw 4 balls without replacement and check to see if the first and third are white and second and fourth are black.\n",
    "- Increment success if the above criterion is met."
   ]
  },
  {
   "cell_type": "code",
   "execution_count": 13,
   "id": "df5fc12f-5f98-4650-9ea9-03d0f51bdace",
   "metadata": {},
   "outputs": [
    {
     "name": "stdout",
     "output_type": "stream",
     "text": [
      "Probability of success = 0.076\n"
     ]
    }
   ],
   "source": [
    "# Initialize success, sims and urn\n",
    "success, sims = 0, 5000\n",
    "urn = ['w' for i in range(7)] + ['b' for i in range(6)]\n",
    "\n",
    "for _ in range(sims):\n",
    "    # Draw 4 balls without replacement\n",
    "    draw = np.random.choice(urn, replace=False, size=4)\n",
    "    # Count the number of successes\n",
    "    if (draw[0]=='w') & (draw[2]=='w') & (draw[1]=='b')& (draw[3]=='b'): \n",
    "        success +=1\n",
    "\n",
    "print(\"Probability of success = {}\".format(success/sims))"
   ]
  },
  {
   "cell_type": "markdown",
   "id": "c42ac1cc-a584-4eb6-b91e-c8490cf566cf",
   "metadata": {},
   "source": [
    "## Birthday problem\n",
    "\n",
    "Now we'll use simulation to solve a famous probability puzzle - the birthday problem. It sounds quite straightforward - How many people do you need in a room to ensure at least a 50% chance that two of them share the same birthday?\n",
    "\n",
    "With 366 people in a 365-day year, we are 100% sure that at least two have the same birthday, but we only need to be 50% sure. Simulation gives us an elegant way of solving this problem.\n",
    "\n",
    "Upon completion of this exercise, you will begin to understand how to cast problems in a simulation framework."
   ]
  },
  {
   "cell_type": "markdown",
   "id": "f8ad9678-6405-4e47-b7d3-d00f29fb8903",
   "metadata": {},
   "source": [
    "- Initialize the sample space days which is an array from 1 to 365.\n",
    "- Define a function birthday_sim() that takes one input people and returns the probability that at least two share the same birthday. Set size of draw to number of people."
   ]
  },
  {
   "cell_type": "code",
   "execution_count": 14,
   "id": "6dc2b2aa-5558-42f2-8779-492db9d43203",
   "metadata": {},
   "outputs": [],
   "source": [
    "# Draw a sample of birthdays & check if each birthday is unique\n",
    "days = [i for i in range(1,366)]\n",
    "people = 2\n",
    "\n",
    "def birthday_sim(people):\n",
    "    sims, unique_birthdays = 2000, 0 \n",
    "    for i in range(sims):\n",
    "        draw = np.random.choice(days, size=people, replace=True)\n",
    "        if len(draw) == len(set(draw)): \n",
    "            unique_birthdays += 1\n",
    "    out = 1 - unique_birthdays / sims\n",
    "    return out"
   ]
  },
  {
   "cell_type": "code",
   "execution_count": 15,
   "id": "400c7deb-0206-4fca-88b0-b092fc06560d",
   "metadata": {},
   "outputs": [
    {
     "data": {
      "text/plain": [
       "0.0020000000000000018"
      ]
     },
     "execution_count": 15,
     "metadata": {},
     "output_type": "execute_result"
    }
   ],
   "source": [
    "birthday_sim(people)"
   ]
  },
  {
   "cell_type": "code",
   "execution_count": 16,
   "id": "1f343d37-1391-4e6a-b78c-ac1a3deed82f",
   "metadata": {},
   "outputs": [
    {
     "name": "stdout",
     "output_type": "stream",
     "text": [
      "With 23 people, there's a 50% chance that two share a birthday.\n"
     ]
    }
   ],
   "source": [
    "# Break out of the loop if probability greater than 0.5\n",
    "while (people > 0):\n",
    "    prop_bds = birthday_sim(people)\n",
    "    if prop_bds > 0.5: \n",
    "        break\n",
    "    people += 1\n",
    "\n",
    "print(\"With {} people, there's a 50% chance that two share a birthday.\".format(people))"
   ]
  },
  {
   "cell_type": "markdown",
   "id": "35c55778-fe9f-4643-99c6-56455ed5261f",
   "metadata": {},
   "source": [
    "## Full house\n",
    "\n",
    "Let's return to our poker game. Last time, we calculated the probability of getting at least two of a kind. This time we are interested in a full house. A full house is when you get two cards of different suits that share the same numeric value and three other cards that have the same numeric value (e.g., 2 of hearts & spades, jacks of clubs, diamonds, & spades).\n",
    "\n",
    "Thus, a full house is the probability of getting exactly three of a kind conditional on getting exactly two of a kind of another value. Using the same code as before, modify the success condition to get the desired output. This exercise will teach you to estimate conditional probabilities in card games and build your foundation in framing abstract problems for simulation.\n",
    "\n",
    "\n",
    "- Shuffle deck_of_cards.\n",
    "- Utilize a dictionary with .get() to count the number of occurrences of each card in the hand.\n",
    "- Increment the counter full_house when there is a full house in the hand (2 of one kind, 3 of the other)."
   ]
  },
  {
   "cell_type": "code",
   "execution_count": 24,
   "id": "ce172af7-ce76-4a32-a7eb-bf5605d9c777",
   "metadata": {},
   "outputs": [],
   "source": [
    "deck = [('Heart', 0), ('Heart', 1), ('Heart', 2), ('Heart', 3), ('Heart', 4), ('Heart', 5), ('Heart', 6), ('Heart', 7), ('Heart', 8), ('Heart', 9), ('Heart', 10), ('Heart', 11), ('Heart', 12), ('Club', 0), ('Club', 1), ('Club', 2), ('Club', 3), ('Club', 4), ('Club', 5), ('Club', 6), ('Club', 7), ('Club', 8), ('Club', 9), ('Club', 10), ('Club', 11), ('Club', 12), ('Spade', 0), ('Spade', 1), ('Spade', 2), ('Spade', 3), ('Spade', 4), ('Spade', 5), ('Spade', 6), ('Spade', 7), ('Spade', 8), ('Spade', 9), ('Spade', 10), ('Spade', 11), ('Spade', 12), ('Diamond', 0), ('Diamond', 1), ('Diamond', 2), ('Diamond', 3), ('Diamond', 4), ('Diamond', 5), ('Diamond', 6), ('Diamond', 7), ('Diamond', 8), ('Diamond', 9), ('Diamond', 10), ('Diamond', 11), ('Diamond', 12)]\n"
   ]
  },
  {
   "cell_type": "code",
   "execution_count": 26,
   "id": "aa745ff6-7f77-4f5b-b31c-01b4c0c6305c",
   "metadata": {},
   "outputs": [
    {
     "name": "stdout",
     "output_type": "stream",
     "text": [
      "Probability of seeing a full house = 0.00146\n"
     ]
    }
   ],
   "source": [
    "#Shuffle deck & count card occurrences in the hand\n",
    "n_sims, full_house, deck_of_cards = 50000, 0, deck.copy() \n",
    "for i in range(n_sims):\n",
    "    np.random.shuffle(deck_of_cards)\n",
    "    hand, cards_in_hand = deck_of_cards[0:5], {}\n",
    "    for card in hand:\n",
    "        # Use .get() method to count occurrences of each card\n",
    "        cards_in_hand[card[1]] = cards_in_hand.get(card[1], 0) + 1\n",
    "        \n",
    "    # Condition for getting full house\n",
    "    condition = (max(cards_in_hand.values()) ==3) & (min(cards_in_hand.values())==2)\n",
    "    if condition: \n",
    "        full_house +=1\n",
    "print(\"Probability of seeing a full house = {}\".format(full_house/n_sims))"
   ]
  },
  {
   "cell_type": "markdown",
   "id": "43445bd7-e98b-47e0-a34f-0f20d1243c5f",
   "metadata": {},
   "source": [
    "## Data Generating Process"
   ]
  },
  {
   "cell_type": "markdown",
   "id": "418ff133-b85c-4b6b-b119-059ff1ab71d2",
   "metadata": {},
   "source": [
    "### Driving test\n",
    "\n",
    "Through the next exercises, we will learn how to build a data generating process (DGP) through progressively complex examples.\n",
    "\n",
    "In this exercise, you will simulate a very simple DGP. Suppose that you are about to take a driving test tomorrow. Based on your own practice and based on data you have gathered, you know that the probability of you passing the test is 90% when it's sunny and only 30% when it's raining. Your local weather station forecasts that there's a 40% chance of rain tomorrow. Based on this information, you want to know what is the probability of you passing the driving test tomorrow.\n",
    "\n",
    "This is a simple problem and can be solved analytically. Here, you will learn how to model a simple DGP and see how it can be used for simulation."
   ]
  },
  {
   "cell_type": "code",
   "execution_count": 68,
   "id": "94b20991-4d99-463e-a7d1-cbed989303c6",
   "metadata": {},
   "outputs": [],
   "source": [
    "sims, outcomes, p_rain, p_pass = 1000, [], 0.40, {'sun':0.9, 'rain':0.3}\n",
    "\n",
    "def test_outcome(p_rain):  \n",
    "    # Simulate whether it will rain or not\n",
    "    weather = np.random.choice(['rain', 'sun'], p=[p_rain, 1 - p_rain])\n",
    "    # Simulate and return whether you will pass or fail\n",
    "    test_result = np.random.choice(['pass', 'fail'], p=[p_pass[weather],1-p_pass[weather]])\n",
    "    return test_result"
   ]
  },
  {
   "cell_type": "code",
   "execution_count": 42,
   "id": "5b4d3e1f-60d5-4ab3-aac5-3a8cc517df72",
   "metadata": {},
   "outputs": [
    {
     "data": {
      "text/plain": [
       "'pass'"
      ]
     },
     "execution_count": 42,
     "metadata": {},
     "output_type": "execute_result"
    }
   ],
   "source": [
    "test_outcome(p_rain)"
   ]
  },
  {
   "cell_type": "code",
   "execution_count": null,
   "id": "31e90ede-e130-48fe-9508-e87059c3d2ce",
   "metadata": {},
   "outputs": [],
   "source": [
    "for i in range(sims):\n",
    "    outcomes.append(test_outcome(p_rain))\n",
    "\n",
    "# Calculate fraction of outcomes where you pass\n",
    "pass_outcomes_frac = outcomes.count('pass')/len(outcomes)\n",
    "print(\"Probability of Passing the driving test = {}\".format(pass_outcomes_frac))\n"
   ]
  },
  {
   "cell_type": "markdown",
   "id": "54a8846b-3312-453d-8d58-b7aa3929e525",
   "metadata": {},
   "source": [
    "## National elections\n",
    "This exercise will give you a taste of how you can model a DGP at different levels of complexity.\n",
    "\n",
    "Consider national elections in a country with two political parties - Red and Blue. This country has 50 states and the party that wins the most states wins the elections. You have the probability  of Red winning in each individual state and want to know the probability of Red winning nationally.\n",
    "\n",
    "Let's model the DGP to understand the distribution. Suppose the election outcome in each state follows a binomial distribution with probability  such that  indicates a loss for Red and  indicates a win. We then simulate a number of election outcomes. Finally, we can ask rich questions like what is the probability of Red winning less than 45% of the states?"
   ]
  },
  {
   "cell_type": "markdown",
   "id": "8fbb5493-3eb6-4a9f-af65-b35c0b4c5cc8",
   "metadata": {},
   "source": [
    "- Simulate one election using np.random.binomial() with p = probs and n=1. Assign it to election.\n",
    "- Append the average of Red's wins in election to outcomes.\n",
    "- Calculate the fraction of outcomes where Red won less than 45% of the states. Save it as prob_red_wins and use it to print your results."
   ]
  },
  {
   "cell_type": "code",
   "execution_count": 46,
   "id": "de43ccb9-e3b0-41ca-873e-80efa16fb65c",
   "metadata": {},
   "outputs": [
    {
     "data": {
      "text/plain": [
       "0.42"
      ]
     },
     "execution_count": 46,
     "metadata": {},
     "output_type": "execute_result"
    }
   ],
   "source": [
    "p =[0.52076814, 0.67846401, 0.82731745, 0.64722761, 0.03665174, 0.17835411\n",
    " ,0.75296372 ,0.22206157, 0.72778372, 0.28461556, 0.72545221, 0.106571\n",
    " ,0.09291364, 0.77535718, 0.51440142, 0.89604586, 0.39376099, 0.24910244\n",
    " ,0.92518253, 0.08165597, 0.4212476,  0.74123879, 0.2479099,  0.46125805\n",
    " ,0.19584491, 0.24440482, 0.349916,   0.80224624, 0.80186664, 0.82968251\n",
    " ,0.91178779, 0.51739059, 0.67338858, 0.15675863, 0.37772308, 0.77134621\n",
    " ,0.71727114, 0.92700912, 0.28386132, 0.25502498, 0.30081506, 0.19724585\n",
    " ,0.29129564, 0.56623386, 0.97681039, 0.96263926, 0.0548948,  0.14092758\n",
    " ,0.54739446, 0.54555576]\n",
    "\n",
    "np.random.binomial(p = p, n = 1).mean()"
   ]
  },
  {
   "cell_type": "code",
   "execution_count": 78,
   "id": "8559c8b0-acec-4dea-b8b2-12ca83b50bcb",
   "metadata": {},
   "outputs": [
    {
     "name": "stdout",
     "output_type": "stream",
     "text": [
      "Probability of Red winning in less than 45% of the states = 0.201\n"
     ]
    }
   ],
   "source": [
    "outcomes, sims, probs = [], 1000, p\n",
    "\n",
    "for i in range(sims):\n",
    "    # Simulate elections in the 50 states\n",
    "    election = np.random.binomial(p = probs, n = 1)\n",
    "    # Get average of Red wins and add to `outcomes`\n",
    "    outcomes.append(election.mean())\n",
    "\n",
    "# Calculate probability of Red winning in less than 45% of the states\n",
    "prob_red_wins = len([i for i in outcomes if i<0.45])/len(outcomes)\n",
    "print(\"Probability of Red winning in less than 45% of the states = {}\".format(prob_red_wins))"
   ]
  },
  {
   "cell_type": "markdown",
   "id": "db9e7bd7-9214-4cb5-b3a6-4a560e0b3a5b",
   "metadata": {},
   "source": [
    "## Fitness goals\n",
    "\n",
    "Let's model how activity levels impact weight loss using modern fitness trackers. On days when you go to the gym, you average around 15k steps, and around 5k steps otherwise. You go to the gym 40% of the time. Let's model the step counts in a day as a Poisson random variable with a mean  dependent on whether or not you go to the gym.\n",
    "\n",
    "For simplicity, let’s say you have an 80% chance of losing 1lb and a 20% chance of gaining 1lb when you get more than 10k steps. The probabilities are reversed when you get less than 8k steps. Otherwise, there's an even chance of gaining or losing 1lb. Given all this information, find the probability of losing weight in a month."
   ]
  },
  {
   "cell_type": "markdown",
   "id": "80dcb1a6-ba29-4719-8878-59a35f8d30ef",
   "metadata": {},
   "source": [
    "- Simulate steps as a Poisson random variable for a given day based on the value of lam.\n",
    "- Set prob to [0.2, 0.8] if steps > 10000 or to [0.8, 0.2] if steps < 8000. Sum up all the weight lost or gained in a month stored in w.\n",
    "- Calculate and print the fraction of simulations where total weight for a month in outcomes is less than 0. Save as weight_loss_outcomes_frac and use that to print your results."
   ]
  },
  {
   "cell_type": "code",
   "execution_count": 85,
   "id": "8aa9c088-165c-4113-8953-cd3b3eea39ee",
   "metadata": {},
   "outputs": [
    {
     "name": "stdout",
     "output_type": "stream",
     "text": [
      "Probability of Weight Loss = 0.177\n"
     ]
    }
   ],
   "source": [
    "# Simulate steps & choose prob \n",
    "days = 50\n",
    "\n",
    "for i in range(sims):\n",
    "    w = []\n",
    "    for i in range(days):\n",
    "        lam = np.random.choice([5000, 15000], p=[0.6, 0.4], size=1)\n",
    "        steps = np.random.poisson(lam)\n",
    "        if steps > 10000: \n",
    "            prob = [0.2, 0.8]\n",
    "        elif steps < 8000: \n",
    "            prob = [0.8, 0.2]\n",
    "        else:\n",
    "            prob = [0.5, 0.5]\n",
    "        w.append(np.random.choice([1, -1], p=prob))\n",
    "    outcomes.append(sum(w))\n",
    "\n",
    "# Calculate fraction of outcomes where there was a weight loss\n",
    "weight_loss_outcomes_frac = len([i for i in outcomes if i<0])/len(outcomes)\n",
    "print(\"Probability of Weight Loss = {}\".format(weight_loss_outcomes_frac))"
   ]
  },
  {
   "cell_type": "markdown",
   "id": "bfce0a70-481f-4dbb-8203-266771c0cbbb",
   "metadata": {},
   "source": [
    "## eCommerce Ad Simulation"
   ]
  },
  {
   "attachments": {
    "80d7def8-9b5f-4209-bc03-785ffce8b1e2.png": {
     "image/png": "[encoded data removed]"
    },
    "c31e9ed5-b51e-40c3-8802-965900c2998f.png": {
     "image/png": "[encoded data removed]"
    },
    "e8220331-e393-4770-b202-f965017389e2.png": {
     "image/png": "[encoded data removed]"
    }
   },
   "cell_type": "markdown",
   "id": "77a6fd57-6ff0-43cd-87b9-c93cd3caf712",
   "metadata": {},
   "source": [
    "![image.png](attachment:e8220331-e393-4770-b202-f965017389e2.png)\n",
    "\n",
    "![image.png](attachment:80d7def8-9b5f-4209-bc03-785ffce8b1e2.png)\n",
    "\n",
    "![image.png](attachment:c31e9ed5-b51e-40c3-8802-965900c2998f.png)"
   ]
  },
  {
   "cell_type": "markdown",
   "id": "4dc91a5f-d3be-42b8-986b-2bc0550dc0d6",
   "metadata": {},
   "source": [
    "## Sign up Flow\n",
    "\n",
    "We will now model the DGP of an eCommerce ad flow starting with sign-ups.\n",
    "\n",
    "On any day, we get many ad impressions, which can be modeled as Poisson random variables (RV). You are told that  is normally distributed with a mean of 100k visitors and standard deviation 2000.\n",
    "\n",
    "During the signup journey, the customer sees an ad, decides whether or not to click, and then whether or not to signup. Thus both clicks and signups are binary, modeled using binomial RVs. What about probability  of success? Our current low-cost option gives us a click-through rate of 1% and a sign-up rate of 20%. A higher cost option could increase the clickthrough and signup rate by up to 20%, but we are unsure of the level of improvement, so we model it as a uniform RV."
   ]
  },
  {
   "cell_type": "markdown",
   "id": "2d0cb293-f671-4d5a-97ce-b78356b6b6ec",
   "metadata": {},
   "source": [
    "- Initialize ct_rate and su_rate dictionaries such that the high values are uniformly distributed between the low value and  the low value.\n",
    "- Model impressions as a Poisson random variable with a mean value lam.\n",
    "- Model clicks and signups as binomial random variables with n as impressions and clicks and p as ct_rate[cost] and su_rate[cost], respectively.\n",
    "- We then print the simulated signups for the 'high' cost option"
   ]
  },
  {
   "cell_type": "code",
   "execution_count": 86,
   "id": "ed7dca9b-a4fa-4d42-beaa-99fbe151e001",
   "metadata": {},
   "outputs": [
    {
     "name": "stdout",
     "output_type": "stream",
     "text": [
      "Simulated Signups = [232]\n"
     ]
    }
   ],
   "source": [
    "# Initialize click-through rate and signup rate dictionaries\n",
    "\n",
    "ct_rate = {'low':0.01, 'high':np.random.uniform(low=0.01, high=1.2*0.01)}\n",
    "su_rate = {'low':0.2, 'high':np.random.uniform(low=0.2, high=1.2*0.2)}\n",
    "\n",
    "def get_signups(cost, ct_rate, su_rate, sims):\n",
    "    lam = np.random.normal(loc=100000, scale=2000, size=sims)\n",
    "    # Simulate impressions(poisson), clicks(binomial) and signups(binomial)\n",
    "    impressions = np.random.poisson(lam)\n",
    "    clicks = np.random.binomial(n=impressions, p = ct_rate[cost])\n",
    "    signups = np.random.binomial(n=clicks, p = su_rate[cost])\n",
    "    return signups\n",
    "\n",
    "print(\"Simulated Signups = {}\".format(get_signups('high', ct_rate, su_rate, 1)))"
   ]
  },
  {
   "cell_type": "markdown",
   "id": "5b26e305-e437-40f1-986f-d2d67d745e06",
   "metadata": {},
   "source": [
    "## Purchase Flow\n",
    "After signups, let's model the revenue generation process. Once the customer has signed up, they decide whether or not to purchase - a natural candidate for a binomial RV. Let's assume that 10% of signups result in a purchase.\n",
    "\n",
    "Although customers can make many purchases, let's assume one purchase. The purchase value could be modeled by any continuous RV, but one nice candidate is the exponential RV. Suppose we know that purchase value per customer has averaged around $1000. We use this information to create the purchase_values RV. The revenue, then, is simply the sum of all purchase values.\n",
    "\n",
    "- Model purchases as a binomial RV with p=0.1.\n",
    "- Model purchase_values as an exponential RV scale=1000 and the appropriate size.\n",
    "- Append rev with the sum of purchase_values."
   ]
  },
  {
   "cell_type": "code",
   "execution_count": 97,
   "id": "93e4875f-3007-4c06-bee0-bda4ebc36b94",
   "metadata": {},
   "outputs": [
    {
     "name": "stdout",
     "output_type": "stream",
     "text": [
      "Simulated Revenue = $16605.883101873016\n"
     ]
    }
   ],
   "source": [
    "def get_revenue(signups):\n",
    "    rev = []\n",
    "    np.random.seed(123)\n",
    "    for s in signups:\n",
    "        # Model purchases as binomial, purchase_values as exponential\n",
    "        purchases = np.random.binomial(s, p=0.1)\n",
    "        purchase_values = np.random.exponential(scale=1000, size = purchases)\n",
    "        \n",
    "        # Append to revenue the sum of all purchase values.\n",
    "        rev.append(purchase_values.sum())\n",
    "    return rev\n",
    "\n",
    "print(\"Simulated Revenue = ${}\".format(get_revenue(get_signups('low', ct_rate, su_rate, 1))[0]))"
   ]
  },
  {
   "cell_type": "markdown",
   "id": "e2ff3737-17ca-4d14-afff-5b2c283f4d6d",
   "metadata": {},
   "source": [
    "## Probability of losing money\n",
    "\n",
    "In this exercise, we will use the DGP model to estimate probability.\n",
    "\n",
    "As seen earlier, this company has the option of spending extra money, let's say 3000USD, to redesign the ad. This could potentially get them higher clickthrough and signup rates, but this is not guaranteed. We would like to know whether or not to spend this extra 3000 by calculating the probability of losing money. In other words, the probability that the revenue from the high-cost option minus the revenue from the low-cost option is lesser than the cost.\n",
    "\n",
    "Once we have simulated revenue outcomes, we can ask a rich set of questions that might not have been accessible using traditional analytical methods.\n",
    "\n",
    "This simple yet powerful framework forms the basis of Bayesian methods for getting probabilities."
   ]
  },
  {
   "cell_type": "markdown",
   "id": "d73a7b13-b480-41f5-a82e-18c8be29ca6e",
   "metadata": {},
   "source": [
    "- Initialize cost_diff, the difference between the 'high' and 'low' cost options, to 3000.\n",
    "- Get the revenue for the high-cost option and assign it to rev_high.\n",
    "- Calculate the fraction of times when rev_high - rev_low is less than cost_diff. Call it frac and use it to print your results."
   ]
  },
  {
   "cell_type": "code",
   "execution_count": 123,
   "id": "15a05782-3f0b-49a3-bff4-11542fe6f060",
   "metadata": {},
   "outputs": [
    {
     "name": "stdout",
     "output_type": "stream",
     "text": [
      "Probability of losing money = 0.587\n"
     ]
    }
   ],
   "source": [
    "# Initialize cost_diff\n",
    "sims, cost_diff = 10000, 3000\n",
    "\n",
    "# Get revenue when the cost is 'low' and when the cost is 'high'\n",
    "rev_low = get_revenue(get_signups('low', ct_rate, su_rate, sims))\n",
    "rev_high = get_revenue(get_signups('high', ct_rate, su_rate, sims))\n",
    "\n",
    "# calculate fraction of times rev_high - rev_low is less than cost_diff\n",
    "\n",
    "frac = (np.subtract(rev_high,rev_low)< cost_diff).sum()/sims\n",
    "print(\"Probability of losing money = {}\".format(frac))"
   ]
  },
  {
   "cell_type": "code",
   "execution_count": null,
   "id": "01d19c53-604b-4f7f-b476-7c0ae483a80b",
   "metadata": {},
   "outputs": [],
   "source": []
  }
 ],
 "metadata": {
  "kernelspec": {
   "display_name": "env-3.8.10",
   "language": "python",
   "name": "env-3.8.10"
  },
  "language_info": {
   "codemirror_mode": {
    "name": "ipython",
    "version": 3
   },
   "file_extension": ".py",
   "mimetype": "text/x-python",
   "name": "python",
   "nbconvert_exporter": "python",
   "pygments_lexer": "ipython3",
   "version": "3.8.10"
  }
 },
 "nbformat": 4,
 "nbformat_minor": 5
}
